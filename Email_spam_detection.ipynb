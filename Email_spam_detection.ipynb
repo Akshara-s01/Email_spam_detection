{
 "cells": [
  {
   "cell_type": "code",
   "execution_count": 1,
   "metadata": {
    "executionInfo": {
     "elapsed": 33,
     "status": "ok",
     "timestamp": 1752110561640,
     "user": {
      "displayName": "Akshara",
      "userId": "15012988996016476014"
     },
     "user_tz": -330
    },
    "id": "hoBX6BF9yzr0"
   },
   "outputs": [],
   "source": [
    "import pandas as pd\n",
    "import numpy as np\n",
    "import matplotlib.pyplot as plt\n",
    "import seaborn as sns"
   ]
  },
  {
   "cell_type": "code",
   "execution_count": 2,
   "metadata": {
    "executionInfo": {
     "elapsed": 29,
     "status": "ok",
     "timestamp": 1752110562618,
     "user": {
      "displayName": "Akshara",
      "userId": "15012988996016476014"
     },
     "user_tz": -330
    },
    "id": "aDzf5fLoJpCV"
   },
   "outputs": [],
   "source": [
    "df=pd.read_csv('spam.csv')"
   ]
  },
  {
   "cell_type": "code",
   "execution_count": 3,
   "metadata": {
    "colab": {
     "base_uri": "https://localhost:8080/"
    },
    "executionInfo": {
     "elapsed": 32,
     "status": "ok",
     "timestamp": 1752110563578,
     "user": {
      "displayName": "Akshara",
      "userId": "15012988996016476014"
     },
     "user_tz": -330
    },
    "id": "3-nnt3oUxeWi",
    "outputId": "d3db1ea2-5435-487d-f93b-800db3224b9c"
   },
   "outputs": [
    {
     "name": "stdout",
     "output_type": "stream",
     "text": [
      "Dataset Overview:\n",
      "  Category                                            Message\n",
      "0      ham  Go until jurong point, crazy.. Available only ...\n",
      "1      ham                      Ok lar... Joking wif u oni...\n",
      "2     spam  Free entry in 2 a wkly comp to win FA Cup fina...\n",
      "3      ham  U dun say so early hor... U c already then say...\n",
      "4      ham  Nah I don't think he goes to usf, he lives aro...\n",
      "--------------------------------------------------------------------------------\n",
      "     Category                                            Message\n",
      "5567     spam  This is the 2nd time we have tried 2 contact u...\n",
      "5568      ham               Will ü b going to esplanade fr home?\n",
      "5569      ham  Pity, * was in mood for that. So...any other s...\n",
      "5570      ham  The guy did some bitching but I acted like i'd...\n",
      "5571      ham                         Rofl. Its true to its name\n"
     ]
    }
   ],
   "source": [
    "# View first and last few records\n",
    "print(\"Dataset Overview:\")\n",
    "print(df.head())\n",
    "print(\"-\"*80)\n",
    "print(df.tail())"
   ]
  },
  {
   "cell_type": "code",
   "execution_count": 4,
   "metadata": {
    "colab": {
     "base_uri": "https://localhost:8080/"
    },
    "executionInfo": {
     "elapsed": 34,
     "status": "ok",
     "timestamp": 1752110567477,
     "user": {
      "displayName": "Akshara",
      "userId": "15012988996016476014"
     },
     "user_tz": -330
    },
    "id": "lJ3c22rQxrk0",
    "outputId": "553dd4d2-a9d2-45c1-c09e-b71e8b02687a"
   },
   "outputs": [
    {
     "name": "stdout",
     "output_type": "stream",
     "text": [
      "<class 'pandas.core.frame.DataFrame'>\n",
      "RangeIndex: 5572 entries, 0 to 5571\n",
      "Data columns (total 2 columns):\n",
      " #   Column    Non-Null Count  Dtype \n",
      "---  ------    --------------  ----- \n",
      " 0   Category  5572 non-null   object\n",
      " 1   Message   5572 non-null   object\n",
      "dtypes: object(2)\n",
      "memory usage: 87.2+ KB\n",
      "None\n",
      "--------------------------------------------------------------------------------\n",
      "       Category                 Message\n",
      "count      5572                    5572\n",
      "unique        2                    5157\n",
      "top         ham  Sorry, I'll call later\n",
      "freq       4825                      30\n",
      "--------------------------------------------------------------------------------\n"
     ]
    },
    {
     "data": {
      "text/plain": [
       "Index(['Category', 'Message'], dtype='object')"
      ]
     },
     "execution_count": 4,
     "metadata": {},
     "output_type": "execute_result"
    }
   ],
   "source": [
    "# View structure and stats\n",
    "print(df.info())\n",
    "print(\"-\"*80)\n",
    "print(df.describe())\n",
    "print(\"-\"*80)\n",
    "df.columns"
   ]
  },
  {
   "cell_type": "code",
   "execution_count": 5,
   "metadata": {
    "colab": {
     "base_uri": "https://localhost:8080/"
    },
    "executionInfo": {
     "elapsed": 33,
     "status": "ok",
     "timestamp": 1752110570106,
     "user": {
      "displayName": "Akshara",
      "userId": "15012988996016476014"
     },
     "user_tz": -330
    },
    "id": "_bvbUtZyx0_U",
    "outputId": "27b96c7d-fba9-4f63-b228-3dc3dae99523"
   },
   "outputs": [
    {
     "name": "stdout",
     "output_type": "stream",
     "text": [
      "Category    0\n",
      "Message     0\n",
      "dtype: int64\n",
      "--------------------------------------------------------------------------------\n",
      "(5572, 2)\n"
     ]
    }
   ],
   "source": [
    "# Check for missing values\n",
    "print(df.isnull().sum())\n",
    "print(\"-\"*80)\n",
    "print(df.shape)"
   ]
  },
  {
   "cell_type": "code",
   "execution_count": 6,
   "metadata": {
    "colab": {
     "base_uri": "https://localhost:8080/"
    },
    "executionInfo": {
     "elapsed": 19,
     "status": "ok",
     "timestamp": 1752110573121,
     "user": {
      "displayName": "Akshara",
      "userId": "15012988996016476014"
     },
     "user_tz": -330
    },
    "id": "0iO2FmVnvlog",
    "outputId": "60004e8d-58b2-441c-9dbb-0dbc1478a93a"
   },
   "outputs": [
    {
     "data": {
      "text/plain": [
       "415"
      ]
     },
     "execution_count": 6,
     "metadata": {},
     "output_type": "execute_result"
    }
   ],
   "source": [
    "df.duplicated().sum()"
   ]
  },
  {
   "cell_type": "code",
   "execution_count": 7,
   "metadata": {
    "executionInfo": {
     "elapsed": 25,
     "status": "ok",
     "timestamp": 1752110574570,
     "user": {
      "displayName": "Akshara",
      "userId": "15012988996016476014"
     },
     "user_tz": -330
    },
    "id": "st4ydaz7GY80"
   },
   "outputs": [],
   "source": [
    "df.drop_duplicates(inplace=True)"
   ]
  },
  {
   "cell_type": "code",
   "execution_count": 8,
   "metadata": {
    "colab": {
     "base_uri": "https://localhost:8080/"
    },
    "executionInfo": {
     "elapsed": 35,
     "status": "ok",
     "timestamp": 1752110576143,
     "user": {
      "displayName": "Akshara",
      "userId": "15012988996016476014"
     },
     "user_tz": -330
    },
    "id": "sA15pqZZvxXT",
    "outputId": "a8e41fd5-80f7-4d5d-a668-1a797530a242"
   },
   "outputs": [
    {
     "name": "stdout",
     "output_type": "stream",
     "text": [
      "Index(['Category', 'Message'], dtype='object')\n"
     ]
    }
   ],
   "source": [
    "columns=df.columns\n",
    "print(columns)"
   ]
  },
  {
   "cell_type": "code",
   "execution_count": 9,
   "metadata": {
    "executionInfo": {
     "elapsed": 5306,
     "status": "ok",
     "timestamp": 1752110651605,
     "user": {
      "displayName": "Akshara",
      "userId": "15012988996016476014"
     },
     "user_tz": -330
    },
    "id": "oU5Zmxva7mzh"
   },
   "outputs": [],
   "source": [
    "import nltk\n",
    "from nltk.corpus import stopwords\n",
    "from nltk.stem import PorterStemmer\n",
    "import string\n",
    "import re"
   ]
  },
  {
   "cell_type": "code",
   "execution_count": 10,
   "metadata": {
    "colab": {
     "base_uri": "https://localhost:8080/"
    },
    "executionInfo": {
     "elapsed": 1474,
     "status": "ok",
     "timestamp": 1752110734346,
     "user": {
      "displayName": "Akshara",
      "userId": "15012988996016476014"
     },
     "user_tz": -330
    },
    "id": "lW5vBx9y7kPf",
    "outputId": "14c7b1f1-12f7-46c2-c515-02d885a52fab"
   },
   "outputs": [
    {
     "name": "stderr",
     "output_type": "stream",
     "text": [
      "[nltk_data] Downloading package stopwords to\n",
      "[nltk_data]     C:\\Users\\ayumi\\AppData\\Roaming\\nltk_data...\n",
      "[nltk_data]   Unzipping corpora\\stopwords.zip.\n"
     ]
    }
   ],
   "source": [
    "nltk.download('stopwords')\n",
    "stop_words = set(stopwords.words('english'))\n",
    "stemmer = PorterStemmer()\n",
    "\n",
    "def clean_text(text):\n",
    "    # Lowercase\n",
    "    text = text.lower()\n",
    "    # Remove punctuation and numbers\n",
    "    text = re.sub(r'[^a-zA-Z]', ' ', text)\n",
    "    # Tokenize and remove stopwords\n",
    "    tokens = text.split()\n",
    "    tokens = [stemmer.stem(word) for word in tokens if word not in stop_words]\n",
    "    return ' '.join(tokens)\n",
    "\n",
    "df['cleaned_text'] = df['Message'].apply(clean_text)"
   ]
  },
  {
   "cell_type": "code",
   "execution_count": 11,
   "metadata": {
    "executionInfo": {
     "elapsed": 51,
     "status": "ok",
     "timestamp": 1752110796986,
     "user": {
      "displayName": "Akshara",
      "userId": "15012988996016476014"
     },
     "user_tz": -330
    },
    "id": "-WlWuMJX8KGc"
   },
   "outputs": [],
   "source": [
    "from sklearn.model_selection import train_test_split\n",
    "from sklearn.feature_extraction.text import TfidfVectorizer\n",
    "from sklearn.naive_bayes import MultinomialNB\n",
    "from sklearn.svm import LinearSVC\n",
    "from sklearn.metrics import accuracy_score, precision_score, recall_score, f1_score, confusion_matrix, classification_report"
   ]
  },
  {
   "cell_type": "code",
   "execution_count": 12,
   "metadata": {
    "executionInfo": {
     "elapsed": 31,
     "status": "ok",
     "timestamp": 1752110850356,
     "user": {
      "displayName": "Akshara",
      "userId": "15012988996016476014"
     },
     "user_tz": -330
    },
    "id": "wzAQJ9Hf8GN8"
   },
   "outputs": [],
   "source": [
    "df['label_num'] = df['Category'].map({'ham': 0, 'spam': 1})"
   ]
  },
  {
   "cell_type": "code",
   "execution_count": 13,
   "metadata": {
    "executionInfo": {
     "elapsed": 46,
     "status": "ok",
     "timestamp": 1752110948583,
     "user": {
      "displayName": "Akshara",
      "userId": "15012988996016476014"
     },
     "user_tz": -330
    },
    "id": "CqPYUbtn8iqB"
   },
   "outputs": [],
   "source": [
    "vectorizer = TfidfVectorizer(max_features=3000)\n",
    "x = vectorizer.fit_transform(df['cleaned_text'])\n",
    "y = df['label_num']"
   ]
  },
  {
   "cell_type": "markdown",
   "metadata": {
    "id": "x3EQOEBb0vAO"
   },
   "source": [
    "split for training and testing"
   ]
  },
  {
   "cell_type": "code",
   "execution_count": 14,
   "metadata": {
    "executionInfo": {
     "elapsed": 22,
     "status": "ok",
     "timestamp": 1752110994349,
     "user": {
      "displayName": "Akshara",
      "userId": "15012988996016476014"
     },
     "user_tz": -330
    },
    "id": "6LWsOJ1pyXZo"
   },
   "outputs": [],
   "source": [
    "from sklearn.model_selection import train_test_split\n",
    "x_train,x_test,y_train,y_test = train_test_split(x,y,test_size=0.2,stratify=y, random_state=42)"
   ]
  },
  {
   "cell_type": "code",
   "execution_count": 15,
   "metadata": {
    "executionInfo": {
     "elapsed": 22,
     "status": "ok",
     "timestamp": 1752111064730,
     "user": {
      "displayName": "Akshara",
      "userId": "15012988996016476014"
     },
     "user_tz": -330
    },
    "id": "wb08g-nE9Jg4"
   },
   "outputs": [],
   "source": [
    "nb_model = MultinomialNB()\n",
    "nb_model.fit(x_train, y_train)\n",
    "nb_preds = nb_model.predict(x_test)"
   ]
  },
  {
   "cell_type": "code",
   "execution_count": 16,
   "metadata": {
    "executionInfo": {
     "elapsed": 47,
     "status": "ok",
     "timestamp": 1752111086710,
     "user": {
      "displayName": "Akshara",
      "userId": "15012988996016476014"
     },
     "user_tz": -330
    },
    "id": "V-GU0TkL9VRg"
   },
   "outputs": [],
   "source": [
    "svm_model = LinearSVC()\n",
    "svm_model.fit(x_train, y_train)\n",
    "svm_preds = svm_model.predict(x_test)"
   ]
  },
  {
   "cell_type": "code",
   "execution_count": 17,
   "metadata": {
    "executionInfo": {
     "elapsed": 37,
     "status": "ok",
     "timestamp": 1752111419081,
     "user": {
      "displayName": "Akshara",
      "userId": "15012988996016476014"
     },
     "user_tz": -330
    },
    "id": "GEv2fJEk9YS3"
   },
   "outputs": [],
   "source": [
    "def evaluate_model(name, y_true, y_pred):\n",
    "    print(f\"{name} Metrics:\")\n",
    "    print(\"Accuracy :\", accuracy_score(y_true, y_pred))\n",
    "    print(\"Precision:\", precision_score(y_true, y_pred))\n",
    "    print(\"Recall   :\", recall_score(y_true, y_pred))\n",
    "    print(\"F1 Score :\", f1_score(y_true, y_pred))\n",
    "    print(\"\\nClassification Report:\\n\", classification_report(y_true, y_pred))\n",
    "    cm = confusion_matrix(y_true, y_pred)\n",
    "    sns.heatmap(cm, annot=True, fmt='d', cmap='Blues')\n",
    "    plt.title(f'{name} Confusion Matrix')\n",
    "    plt.xlabel('Predicted')\n",
    "    plt.ylabel('Actual')\n",
    "    plt.show()"
   ]
  },
  {
   "cell_type": "code",
   "execution_count": 20,
   "metadata": {
    "colab": {
     "base_uri": "https://localhost:8080/",
     "height": 1000
    },
    "executionInfo": {
     "elapsed": 620,
     "status": "ok",
     "timestamp": 1752111424399,
     "user": {
      "displayName": "Akshara",
      "userId": "15012988996016476014"
     },
     "user_tz": -330
    },
    "id": "2st2Z9Tb9feh",
    "outputId": "689298ec-f7d3-4c32-854a-7f3325735a21"
   },
   "outputs": [
    {
     "name": "stdout",
     "output_type": "stream",
     "text": [
      "Naive Bayes Metrics:\n",
      "Accuracy : 0.9777131782945736\n",
      "Precision: 1.0\n",
      "Recall   : 0.8203125\n",
      "F1 Score : 0.9012875536480687\n",
      "\n",
      "Classification Report:\n",
      "               precision    recall  f1-score   support\n",
      "\n",
      "           0       0.98      1.00      0.99       904\n",
      "           1       1.00      0.82      0.90       128\n",
      "\n",
      "    accuracy                           0.98      1032\n",
      "   macro avg       0.99      0.91      0.94      1032\n",
      "weighted avg       0.98      0.98      0.98      1032\n",
      "\n"
     ]
    },
    {
     "data": {
      "image/png": "[encoded data removed]",
      "text/plain": [
       "<Figure size 640x480 with 2 Axes>"
      ]
     },
     "metadata": {},
     "output_type": "display_data"
    },
    {
     "name": "stdout",
     "output_type": "stream",
     "text": [
      "================================================================================\n",
      "SVM Metrics:\n",
      "Accuracy : 0.9786821705426356\n",
      "Precision: 0.9732142857142857\n",
      "Recall   : 0.8515625\n",
      "F1 Score : 0.9083333333333333\n",
      "\n",
      "Classification Report:\n",
      "               precision    recall  f1-score   support\n",
      "\n",
      "           0       0.98      1.00      0.99       904\n",
      "           1       0.97      0.85      0.91       128\n",
      "\n",
      "    accuracy                           0.98      1032\n",
      "   macro avg       0.98      0.92      0.95      1032\n",
      "weighted avg       0.98      0.98      0.98      1032\n",
      "\n"
     ]
    },
    {
     "data": {
      "image/png": "[encoded data removed]",
      "text/plain": [
       "<Figure size 640x480 with 2 Axes>"
      ]
     },
     "metadata": {},
     "output_type": "display_data"
    }
   ],
   "source": [
    "evaluate_model(\"Naive Bayes\", y_test, nb_preds)\n",
    "print(\"=\"*80)\n",
    "evaluate_model(\"SVM\", y_test, svm_preds)"
   ]
  }
 ],
 "metadata": {
  "colab": {
   "provenance": []
  },
  "kernelspec": {
   "display_name": "Python 3 (ipykernel)",
   "language": "python",
   "name": "python3"
  },
  "language_info": {
   "codemirror_mode": {
    "name": "ipython",
    "version": 3
   },
   "file_extension": ".py",
   "mimetype": "text/x-python",
   "name": "python",
   "nbconvert_exporter": "python",
   "pygments_lexer": "ipython3",
   "version": "3.12.7"
  }
 },
 "nbformat": 4,
 "nbformat_minor": 4
}
